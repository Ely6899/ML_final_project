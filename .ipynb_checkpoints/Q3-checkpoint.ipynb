{
  "nbformat": 4,
  "nbformat_minor": 0,
  "metadata": {
    "colab": {
      "provenance": [],
      "machine_shape": "hm",
      "gpuType": "A100"
    },
    "kernelspec": {
      "name": "python3",
      "display_name": "Python 3"
    },
    "language_info": {
      "name": "python"
    },
    "accelerator": "GPU",
    "widgets": {
      "application/vnd.jupyter.widget-state+json": {
        "e347b596b7034136a8dbbf4930162e86": {
          "model_module": "@jupyter-widgets/controls",
          "model_name": "HBoxModel",
          "model_module_version": "1.5.0",
          "state": {
            "_dom_classes": [],
            "_model_module": "@jupyter-widgets/controls",
            "_model_module_version": "1.5.0",
            "_model_name": "HBoxModel",
            "_view_count": null,
            "_view_module": "@jupyter-widgets/controls",
            "_view_module_version": "1.5.0",
            "_view_name": "HBoxView",
            "box_style": "",
            "children": [
              "IPY_MODEL_dac297b7fed444cf93d1683c9768f820",
              "IPY_MODEL_e49a6a0159c14335bbe724911033594d",
              "IPY_MODEL_e1468d1acb9c4f978e76b6fce7f9566e"
            ],
            "layout": "IPY_MODEL_cb63f784fd1d4934a90b1bbb8d2d5158"
          }
        },
        "dac297b7fed444cf93d1683c9768f820": {
          "model_module": "@jupyter-widgets/controls",
          "model_name": "HTMLModel",
          "model_module_version": "1.5.0",
          "state": {
            "_dom_classes": [],
            "_model_module": "@jupyter-widgets/controls",
            "_model_module_version": "1.5.0",
            "_model_name": "HTMLModel",
            "_view_count": null,
            "_view_module": "@jupyter-widgets/controls",
            "_view_module_version": "1.5.0",
            "_view_name": "HTMLView",
            "description": "",
            "description_tooltip": null,
            "layout": "IPY_MODEL_3ccac53666cd4ec9bf4437e8458ccbe7",
            "placeholder": "​",
            "style": "IPY_MODEL_3e96bbb78e7d4749b3c33012260ea4c0",
            "value": "100%"
          }
        },
        "e49a6a0159c14335bbe724911033594d": {
          "model_module": "@jupyter-widgets/controls",
          "model_name": "FloatProgressModel",
          "model_module_version": "1.5.0",
          "state": {
            "_dom_classes": [],
            "_model_module": "@jupyter-widgets/controls",
            "_model_module_version": "1.5.0",
            "_model_name": "FloatProgressModel",
            "_view_count": null,
            "_view_module": "@jupyter-widgets/controls",
            "_view_module_version": "1.5.0",
            "_view_name": "ProgressView",
            "bar_style": "success",
            "description": "",
            "description_tooltip": null,
            "layout": "IPY_MODEL_bfc6384ebb154fc6a7031df3615296e8",
            "max": 750,
            "min": 0,
            "orientation": "horizontal",
            "style": "IPY_MODEL_bd67d3035dc44d6182777f3c830e0f75",
            "value": 750
          }
        },
        "e1468d1acb9c4f978e76b6fce7f9566e": {
          "model_module": "@jupyter-widgets/controls",
          "model_name": "HTMLModel",
          "model_module_version": "1.5.0",
          "state": {
            "_dom_classes": [],
            "_model_module": "@jupyter-widgets/controls",
            "_model_module_version": "1.5.0",
            "_model_name": "HTMLModel",
            "_view_count": null,
            "_view_module": "@jupyter-widgets/controls",
            "_view_module_version": "1.5.0",
            "_view_name": "HTMLView",
            "description": "",
            "description_tooltip": null,
            "layout": "IPY_MODEL_057a16a6d827448cab02c505ec6a8952",
            "placeholder": "​",
            "style": "IPY_MODEL_9445167373b749389f576d6141bcfb00",
            "value": " 750/750 [00:04&lt;00:00, 167.00it/s]"
          }
        },
        "cb63f784fd1d4934a90b1bbb8d2d5158": {
          "model_module": "@jupyter-widgets/base",
          "model_name": "LayoutModel",
          "model_module_version": "1.2.0",
          "state": {
            "_model_module": "@jupyter-widgets/base",
            "_model_module_version": "1.2.0",
            "_model_name": "LayoutModel",
            "_view_count": null,
            "_view_module": "@jupyter-widgets/base",
            "_view_module_version": "1.2.0",
            "_view_name": "LayoutView",
            "align_content": null,
            "align_items": null,
            "align_self": null,
            "border": null,
            "bottom": null,
            "display": null,
            "flex": null,
            "flex_flow": null,
            "grid_area": null,
            "grid_auto_columns": null,
            "grid_auto_flow": null,
            "grid_auto_rows": null,
            "grid_column": null,
            "grid_gap": null,
            "grid_row": null,
            "grid_template_areas": null,
            "grid_template_columns": null,
            "grid_template_rows": null,
            "height": null,
            "justify_content": null,
            "justify_items": null,
            "left": null,
            "margin": null,
            "max_height": null,
            "max_width": null,
            "min_height": null,
            "min_width": null,
            "object_fit": null,
            "object_position": null,
            "order": null,
            "overflow": null,
            "overflow_x": null,
            "overflow_y": null,
            "padding": null,
            "right": null,
            "top": null,
            "visibility": null,
            "width": null
          }
        },
        "3ccac53666cd4ec9bf4437e8458ccbe7": {
          "model_module": "@jupyter-widgets/base",
          "model_name": "LayoutModel",
          "model_module_version": "1.2.0",
          "state": {
            "_model_module": "@jupyter-widgets/base",
            "_model_module_version": "1.2.0",
            "_model_name": "LayoutModel",
            "_view_count": null,
            "_view_module": "@jupyter-widgets/base",
            "_view_module_version": "1.2.0",
            "_view_name": "LayoutView",
            "align_content": null,
            "align_items": null,
            "align_self": null,
            "border": null,
            "bottom": null,
            "display": null,
            "flex": null,
            "flex_flow": null,
            "grid_area": null,
            "grid_auto_columns": null,
            "grid_auto_flow": null,
            "grid_auto_rows": null,
            "grid_column": null,
            "grid_gap": null,
            "grid_row": null,
            "grid_template_areas": null,
            "grid_template_columns": null,
            "grid_template_rows": null,
            "height": null,
            "justify_content": null,
            "justify_items": null,
            "left": null,
            "margin": null,
            "max_height": null,
            "max_width": null,
            "min_height": null,
            "min_width": null,
            "object_fit": null,
            "object_position": null,
            "order": null,
            "overflow": null,
            "overflow_x": null,
            "overflow_y": null,
            "padding": null,
            "right": null,
            "top": null,
            "visibility": null,
            "width": null
          }
        },
        "3e96bbb78e7d4749b3c33012260ea4c0": {
          "model_module": "@jupyter-widgets/controls",
          "model_name": "DescriptionStyleModel",
          "model_module_version": "1.5.0",
          "state": {
            "_model_module": "@jupyter-widgets/controls",
            "_model_module_version": "1.5.0",
            "_model_name": "DescriptionStyleModel",
            "_view_count": null,
            "_view_module": "@jupyter-widgets/base",
            "_view_module_version": "1.2.0",
            "_view_name": "StyleView",
            "description_width": ""
          }
        },
        "bfc6384ebb154fc6a7031df3615296e8": {
          "model_module": "@jupyter-widgets/base",
          "model_name": "LayoutModel",
          "model_module_version": "1.2.0",
          "state": {
            "_model_module": "@jupyter-widgets/base",
            "_model_module_version": "1.2.0",
            "_model_name": "LayoutModel",
            "_view_count": null,
            "_view_module": "@jupyter-widgets/base",
            "_view_module_version": "1.2.0",
            "_view_name": "LayoutView",
            "align_content": null,
            "align_items": null,
            "align_self": null,
            "border": null,
            "bottom": null,
            "display": null,
            "flex": null,
            "flex_flow": null,
            "grid_area": null,
            "grid_auto_columns": null,
            "grid_auto_flow": null,
            "grid_auto_rows": null,
            "grid_column": null,
            "grid_gap": null,
            "grid_row": null,
            "grid_template_areas": null,
            "grid_template_columns": null,
            "grid_template_rows": null,
            "height": null,
            "justify_content": null,
            "justify_items": null,
            "left": null,
            "margin": null,
            "max_height": null,
            "max_width": null,
            "min_height": null,
            "min_width": null,
            "object_fit": null,
            "object_position": null,
            "order": null,
            "overflow": null,
            "overflow_x": null,
            "overflow_y": null,
            "padding": null,
            "right": null,
            "top": null,
            "visibility": null,
            "width": null
          }
        },
        "bd67d3035dc44d6182777f3c830e0f75": {
          "model_module": "@jupyter-widgets/controls",
          "model_name": "ProgressStyleModel",
          "model_module_version": "1.5.0",
          "state": {
            "_model_module": "@jupyter-widgets/controls",
            "_model_module_version": "1.5.0",
            "_model_name": "ProgressStyleModel",
            "_view_count": null,
            "_view_module": "@jupyter-widgets/base",
            "_view_module_version": "1.2.0",
            "_view_name": "StyleView",
            "bar_color": null,
            "description_width": ""
          }
        },
        "057a16a6d827448cab02c505ec6a8952": {
          "model_module": "@jupyter-widgets/base",
          "model_name": "LayoutModel",
          "model_module_version": "1.2.0",
          "state": {
            "_model_module": "@jupyter-widgets/base",
            "_model_module_version": "1.2.0",
            "_model_name": "LayoutModel",
            "_view_count": null,
            "_view_module": "@jupyter-widgets/base",
            "_view_module_version": "1.2.0",
            "_view_name": "LayoutView",
            "align_content": null,
            "align_items": null,
            "align_self": null,
            "border": null,
            "bottom": null,
            "display": null,
            "flex": null,
            "flex_flow": null,
            "grid_area": null,
            "grid_auto_columns": null,
            "grid_auto_flow": null,
            "grid_auto_rows": null,
            "grid_column": null,
            "grid_gap": null,
            "grid_row": null,
            "grid_template_areas": null,
            "grid_template_columns": null,
            "grid_template_rows": null,
            "height": null,
            "justify_content": null,
            "justify_items": null,
            "left": null,
            "margin": null,
            "max_height": null,
            "max_width": null,
            "min_height": null,
            "min_width": null,
            "object_fit": null,
            "object_position": null,
            "order": null,
            "overflow": null,
            "overflow_x": null,
            "overflow_y": null,
            "padding": null,
            "right": null,
            "top": null,
            "visibility": null,
            "width": null
          }
        },
        "9445167373b749389f576d6141bcfb00": {
          "model_module": "@jupyter-widgets/controls",
          "model_name": "DescriptionStyleModel",
          "model_module_version": "1.5.0",
          "state": {
            "_model_module": "@jupyter-widgets/controls",
            "_model_module_version": "1.5.0",
            "_model_name": "DescriptionStyleModel",
            "_view_count": null,
            "_view_module": "@jupyter-widgets/base",
            "_view_module_version": "1.2.0",
            "_view_name": "StyleView",
            "description_width": ""
          }
        },
        "e0fb0abdbb264b2eaefa0df0b844862e": {
          "model_module": "@jupyter-widgets/controls",
          "model_name": "HBoxModel",
          "model_module_version": "1.5.0",
          "state": {
            "_dom_classes": [],
            "_model_module": "@jupyter-widgets/controls",
            "_model_module_version": "1.5.0",
            "_model_name": "HBoxModel",
            "_view_count": null,
            "_view_module": "@jupyter-widgets/controls",
            "_view_module_version": "1.5.0",
            "_view_name": "HBoxView",
            "box_style": "",
            "children": [
              "IPY_MODEL_82563e030a164701a94b3daacf8f3a79",
              "IPY_MODEL_c34a5fa31f334f92a9f9a6cb157f584a",
              "IPY_MODEL_de766a3c236b4f88bd47a819edc54326"
            ],
            "layout": "IPY_MODEL_9561e90258db467b9629a9989cf2b340"
          }
        },
        "82563e030a164701a94b3daacf8f3a79": {
          "model_module": "@jupyter-widgets/controls",
          "model_name": "HTMLModel",
          "model_module_version": "1.5.0",
          "state": {
            "_dom_classes": [],
            "_model_module": "@jupyter-widgets/controls",
            "_model_module_version": "1.5.0",
            "_model_name": "HTMLModel",
            "_view_count": null,
            "_view_module": "@jupyter-widgets/controls",
            "_view_module_version": "1.5.0",
            "_view_name": "HTMLView",
            "description": "",
            "description_tooltip": null,
            "layout": "IPY_MODEL_4a5cdfcfa0584bedb3e5808bcc32268b",
            "placeholder": "​",
            "style": "IPY_MODEL_6eec46a50d14471fba202154ea6d0bf9",
            "value": "100%"
          }
        },
        "c34a5fa31f334f92a9f9a6cb157f584a": {
          "model_module": "@jupyter-widgets/controls",
          "model_name": "FloatProgressModel",
          "model_module_version": "1.5.0",
          "state": {
            "_dom_classes": [],
            "_model_module": "@jupyter-widgets/controls",
            "_model_module_version": "1.5.0",
            "_model_name": "FloatProgressModel",
            "_view_count": null,
            "_view_module": "@jupyter-widgets/controls",
            "_view_module_version": "1.5.0",
            "_view_name": "ProgressView",
            "bar_style": "success",
            "description": "",
            "description_tooltip": null,
            "layout": "IPY_MODEL_ff492e92146045349f18fb6bcc688b44",
            "max": 500,
            "min": 0,
            "orientation": "horizontal",
            "style": "IPY_MODEL_235a189710b948feb10823f9dbf4467b",
            "value": 500
          }
        },
        "de766a3c236b4f88bd47a819edc54326": {
          "model_module": "@jupyter-widgets/controls",
          "model_name": "HTMLModel",
          "model_module_version": "1.5.0",
          "state": {
            "_dom_classes": [],
            "_model_module": "@jupyter-widgets/controls",
            "_model_module_version": "1.5.0",
            "_model_name": "HTMLModel",
            "_view_count": null,
            "_view_module": "@jupyter-widgets/controls",
            "_view_module_version": "1.5.0",
            "_view_name": "HTMLView",
            "description": "",
            "description_tooltip": null,
            "layout": "IPY_MODEL_a72c5dfd5ae54d07b451765044ea00a2",
            "placeholder": "​",
            "style": "IPY_MODEL_a5045fe9957a4c65929a7c9ae78a6edc",
            "value": " 500/500 [00:03&lt;00:00, 160.47it/s]"
          }
        },
        "9561e90258db467b9629a9989cf2b340": {
          "model_module": "@jupyter-widgets/base",
          "model_name": "LayoutModel",
          "model_module_version": "1.2.0",
          "state": {
            "_model_module": "@jupyter-widgets/base",
            "_model_module_version": "1.2.0",
            "_model_name": "LayoutModel",
            "_view_count": null,
            "_view_module": "@jupyter-widgets/base",
            "_view_module_version": "1.2.0",
            "_view_name": "LayoutView",
            "align_content": null,
            "align_items": null,
            "align_self": null,
            "border": null,
            "bottom": null,
            "display": null,
            "flex": null,
            "flex_flow": null,
            "grid_area": null,
            "grid_auto_columns": null,
            "grid_auto_flow": null,
            "grid_auto_rows": null,
            "grid_column": null,
            "grid_gap": null,
            "grid_row": null,
            "grid_template_areas": null,
            "grid_template_columns": null,
            "grid_template_rows": null,
            "height": null,
            "justify_content": null,
            "justify_items": null,
            "left": null,
            "margin": null,
            "max_height": null,
            "max_width": null,
            "min_height": null,
            "min_width": null,
            "object_fit": null,
            "object_position": null,
            "order": null,
            "overflow": null,
            "overflow_x": null,
            "overflow_y": null,
            "padding": null,
            "right": null,
            "top": null,
            "visibility": null,
            "width": null
          }
        },
        "4a5cdfcfa0584bedb3e5808bcc32268b": {
          "model_module": "@jupyter-widgets/base",
          "model_name": "LayoutModel",
          "model_module_version": "1.2.0",
          "state": {
            "_model_module": "@jupyter-widgets/base",
            "_model_module_version": "1.2.0",
            "_model_name": "LayoutModel",
            "_view_count": null,
            "_view_module": "@jupyter-widgets/base",
            "_view_module_version": "1.2.0",
            "_view_name": "LayoutView",
            "align_content": null,
            "align_items": null,
            "align_self": null,
            "border": null,
            "bottom": null,
            "display": null,
            "flex": null,
            "flex_flow": null,
            "grid_area": null,
            "grid_auto_columns": null,
            "grid_auto_flow": null,
            "grid_auto_rows": null,
            "grid_column": null,
            "grid_gap": null,
            "grid_row": null,
            "grid_template_areas": null,
            "grid_template_columns": null,
            "grid_template_rows": null,
            "height": null,
            "justify_content": null,
            "justify_items": null,
            "left": null,
            "margin": null,
            "max_height": null,
            "max_width": null,
            "min_height": null,
            "min_width": null,
            "object_fit": null,
            "object_position": null,
            "order": null,
            "overflow": null,
            "overflow_x": null,
            "overflow_y": null,
            "padding": null,
            "right": null,
            "top": null,
            "visibility": null,
            "width": null
          }
        },
        "6eec46a50d14471fba202154ea6d0bf9": {
          "model_module": "@jupyter-widgets/controls",
          "model_name": "DescriptionStyleModel",
          "model_module_version": "1.5.0",
          "state": {
            "_model_module": "@jupyter-widgets/controls",
            "_model_module_version": "1.5.0",
            "_model_name": "DescriptionStyleModel",
            "_view_count": null,
            "_view_module": "@jupyter-widgets/base",
            "_view_module_version": "1.2.0",
            "_view_name": "StyleView",
            "description_width": ""
          }
        },
        "ff492e92146045349f18fb6bcc688b44": {
          "model_module": "@jupyter-widgets/base",
          "model_name": "LayoutModel",
          "model_module_version": "1.2.0",
          "state": {
            "_model_module": "@jupyter-widgets/base",
            "_model_module_version": "1.2.0",
            "_model_name": "LayoutModel",
            "_view_count": null,
            "_view_module": "@jupyter-widgets/base",
            "_view_module_version": "1.2.0",
            "_view_name": "LayoutView",
            "align_content": null,
            "align_items": null,
            "align_self": null,
            "border": null,
            "bottom": null,
            "display": null,
            "flex": null,
            "flex_flow": null,
            "grid_area": null,
            "grid_auto_columns": null,
            "grid_auto_flow": null,
            "grid_auto_rows": null,
            "grid_column": null,
            "grid_gap": null,
            "grid_row": null,
            "grid_template_areas": null,
            "grid_template_columns": null,
            "grid_template_rows": null,
            "height": null,
            "justify_content": null,
            "justify_items": null,
            "left": null,
            "margin": null,
            "max_height": null,
            "max_width": null,
            "min_height": null,
            "min_width": null,
            "object_fit": null,
            "object_position": null,
            "order": null,
            "overflow": null,
            "overflow_x": null,
            "overflow_y": null,
            "padding": null,
            "right": null,
            "top": null,
            "visibility": null,
            "width": null
          }
        },
        "235a189710b948feb10823f9dbf4467b": {
          "model_module": "@jupyter-widgets/controls",
          "model_name": "ProgressStyleModel",
          "model_module_version": "1.5.0",
          "state": {
            "_model_module": "@jupyter-widgets/controls",
            "_model_module_version": "1.5.0",
            "_model_name": "ProgressStyleModel",
            "_view_count": null,
            "_view_module": "@jupyter-widgets/base",
            "_view_module_version": "1.2.0",
            "_view_name": "StyleView",
            "bar_color": null,
            "description_width": ""
          }
        },
        "a72c5dfd5ae54d07b451765044ea00a2": {
          "model_module": "@jupyter-widgets/base",
          "model_name": "LayoutModel",
          "model_module_version": "1.2.0",
          "state": {
            "_model_module": "@jupyter-widgets/base",
            "_model_module_version": "1.2.0",
            "_model_name": "LayoutModel",
            "_view_count": null,
            "_view_module": "@jupyter-widgets/base",
            "_view_module_version": "1.2.0",
            "_view_name": "LayoutView",
            "align_content": null,
            "align_items": null,
            "align_self": null,
            "border": null,
            "bottom": null,
            "display": null,
            "flex": null,
            "flex_flow": null,
            "grid_area": null,
            "grid_auto_columns": null,
            "grid_auto_flow": null,
            "grid_auto_rows": null,
            "grid_column": null,
            "grid_gap": null,
            "grid_row": null,
            "grid_template_areas": null,
            "grid_template_columns": null,
            "grid_template_rows": null,
            "height": null,
            "justify_content": null,
            "justify_items": null,
            "left": null,
            "margin": null,
            "max_height": null,
            "max_width": null,
            "min_height": null,
            "min_width": null,
            "object_fit": null,
            "object_position": null,
            "order": null,
            "overflow": null,
            "overflow_x": null,
            "overflow_y": null,
            "padding": null,
            "right": null,
            "top": null,
            "visibility": null,
            "width": null
          }
        },
        "a5045fe9957a4c65929a7c9ae78a6edc": {
          "model_module": "@jupyter-widgets/controls",
          "model_name": "DescriptionStyleModel",
          "model_module_version": "1.5.0",
          "state": {
            "_model_module": "@jupyter-widgets/controls",
            "_model_module_version": "1.5.0",
            "_model_name": "DescriptionStyleModel",
            "_view_count": null,
            "_view_module": "@jupyter-widgets/base",
            "_view_module_version": "1.2.0",
            "_view_name": "StyleView",
            "description_width": ""
          }
        }
      }
    }
  },
  "cells": [
    {
      "cell_type": "markdown",
      "source": [
        "## 🎨 Country-5 Color Histogram Study\n",
        "\n",
        "We explore:\n",
        "\n",
        "1. **What is the dominant average color for each country's image set?**  \n",
        "2. **Can RGB histograms alone help identify which country an image is from?**\n",
        "\n",
        "---\n",
        "\n",
        "### Strategy Overview\n",
        "\n",
        "| Step                | Tool/Method                                           | Purpose                                               |\n",
        "|---------------------|------------------------------------------------------|-------------------------------------------------------|\n",
        "| Preprocessing        | `PIL`, `NumPy`, `torchvision.transforms`             | Load, resize, and normalize all images                |\n",
        "| Color Feature Extraction | RGB **color histograms** (256 bins × 3 channels)     | Encode each image’s color distribution                |\n",
        "| Aggregation & Visuals | Per-country RGB mean, histogram overlays            | Spot visual trends and differences                    |\n",
        "| Dimensionality Cut   | **PCA**                                              | Visualize how color distribution separates classes    |\n",
        "| Classification       | **Linear SVM**, **Random Forest**, **AdaBoost**     | Measure how informative color alone is for prediction |\n",
        "| Evaluation           | Accuracy, Precision, Recall, F1/F2 scores, Confusion | Quantify classifier performance                       |\n",
        "\n",
        "---\n",
        "\n",
        "While not as rich as deep features, **global color profiles** still offer insight into environmental or cultural visual themes across regions.\n"
      ],
      "metadata": {
        "id": "PLcOpqynHLcq"
      }
    },
    {
      "cell_type": "code",
      "source": [
        "# CODE ⬇️\n",
        "!pip -qq install torch torchvision scikit-learn matplotlib seaborn tqdm\n",
        "\n",
        "from pathlib import Path\n",
        "import numpy as np, pandas as pd, matplotlib.pyplot as plt, seaborn as sns\n",
        "from PIL import Image\n",
        "from tqdm.auto import tqdm\n",
        "from sklearn.model_selection import train_test_split\n",
        "from sklearn.metrics import (confusion_matrix, precision_recall_fscore_support,\n",
        "                             accuracy_score, classification_report, fbeta_score)\n",
        "from sklearn.svm import LinearSVC\n",
        "from sklearn.ensemble import RandomForestClassifier\n",
        "from sklearn.preprocessing import StandardScaler\n",
        "\n",
        "import os, torch\n",
        "os.environ[\"CUDA_LAUNCH_BLOCKING\"] = \"1\"     # get exact line if CUDA asserts\n",
        "DEVICE = 'cuda' if torch.cuda.is_available() else 'cpu'\n",
        "print(\"Using device:\", DEVICE)\n"
      ],
      "metadata": {
        "colab": {
          "base_uri": "https://localhost:8080/"
        },
        "id": "CLsbAlBJJTx1",
        "outputId": "c734f8e5-a7d7-42e8-a84b-25ddaa24bb77"
      },
      "execution_count": 80,
      "outputs": [
        {
          "output_type": "stream",
          "name": "stdout",
          "text": [
            "Using device: cuda\n"
          ]
        }
      ]
    },
    {
      "cell_type": "code",
      "source": [
        "# prompt: connect to mydrive\n",
        "\n",
        "from google.colab import drive\n",
        "drive.mount('/content/drive')"
      ],
      "metadata": {
        "colab": {
          "base_uri": "https://localhost:8080/"
        },
        "id": "eVkwJx1M375O",
        "outputId": "ff0d1c91-43f7-4019-8586-534a951467c2"
      },
      "execution_count": 3,
      "outputs": [
        {
          "output_type": "stream",
          "name": "stdout",
          "text": [
            "Mounted at /content/drive\n"
          ]
        }
      ]
    },
    {
      "cell_type": "code",
      "source": [
        "import shutil\n",
        "\n",
        "!mkdir -p /content/country15\n",
        "shutil.copytree(\"/content/drive/MyDrive/country15/train\", \"/content/country15/train\")\n",
        "shutil.copytree(\"/content/drive/MyDrive/country15/valid\", \"/content/country15/valid\")\n",
        "shutil.copytree(\"/content/drive/MyDrive/country15/test\",  \"/content/country15/test\")\n",
        "\n"
      ],
      "metadata": {
        "colab": {
          "base_uri": "https://localhost:8080/",
          "height": 36
        },
        "id": "DyprQ3ax5_Dq",
        "outputId": "c8f493ab-4d7f-41a5-a32a-1f9904cb756e"
      },
      "execution_count": 4,
      "outputs": [
        {
          "output_type": "execute_result",
          "data": {
            "text/plain": [
              "'/content/country15/test'"
            ],
            "application/vnd.google.colaboratory.intrinsic+json": {
              "type": "string"
            }
          },
          "metadata": {},
          "execution_count": 4
        }
      ]
    },
    {
      "cell_type": "code",
      "source": [
        "def pick_device():\n",
        "    if not torch.cuda.is_available():\n",
        "        return \"cpu\"\n",
        "    try:\n",
        "        # 1-byte tensor test → catches bad GPU states\n",
        "        torch.zeros(1).to(\"cuda\")\n",
        "        return \"cuda\"\n",
        "    except RuntimeError as e:\n",
        "        print(\"⚠️  GPU not usable, switching to CPU:\", e)\n",
        "        return \"cpu\"\n",
        "\n",
        "DEVICE = pick_device()\n",
        "print(\"Using device:\", DEVICE)\n"
      ],
      "metadata": {
        "colab": {
          "base_uri": "https://localhost:8080/"
        },
        "id": "NZ7L9z-AJ4jY",
        "outputId": "11596d72-a2f0-4b16-dd72-59c1c47f81fe"
      },
      "execution_count": 81,
      "outputs": [
        {
          "output_type": "stream",
          "name": "stdout",
          "text": [
            "⚠️  GPU not usable, switching to CPU: CUDA error: device-side assert triggered\n",
            "CUDA kernel errors might be asynchronously reported at some other API call, so the stacktrace below might be incorrect.\n",
            "For debugging consider passing CUDA_LAUNCH_BLOCKING=1\n",
            "Compile with `TORCH_USE_CUDA_DSA` to enable device-side assertions.\n",
            "\n",
            "Using device: cpu\n"
          ]
        }
      ]
    },
    {
      "cell_type": "code",
      "source": [
        "# CODE ⬇️\n",
        "root   = Path(\"/content/country15\")          # 🔁 change if needed\n",
        "TARGET = ['US','IL','JP','NG','DE']\n",
        "\n",
        "from torchvision import datasets, transforms\n",
        "tf_dummy = transforms.ToTensor()\n",
        "full_tr  = datasets.ImageFolder(root/'train', tf_dummy)\n",
        "full_te  = datasets.ImageFolder(root/'test' , tf_dummy)\n",
        "\n",
        "cls2idx  = {c:i for i,c in enumerate(full_tr.classes)}\n",
        "keep_idx = [cls2idx[c] for c in TARGET]\n",
        "lut      = {old:new for new,old in enumerate(keep_idx)}\n",
        "\n",
        "def filter_remap(ds):\n",
        "    ds.samples = [(p, lut[l]) for p,l in ds.samples if l in keep_idx]\n",
        "    return ds\n",
        "train_ds, test_ds = filter_remap(full_tr), filter_remap(full_te)\n",
        "\n",
        "paths_train = [str(p) for p,_ in train_ds.samples]\n",
        "y_train     = np.array([l for _,l in train_ds.samples])\n",
        "paths_test  = [str(p) for p,_ in test_ds.samples]\n",
        "y_test      = np.array([l for _,l in test_ds.samples])\n",
        "\n",
        "print(\"Loaded:\", len(paths_train), \"train |\", len(paths_test), \"test images\")\n"
      ],
      "metadata": {
        "colab": {
          "base_uri": "https://localhost:8080/"
        },
        "id": "F5uyMD_a5RuE",
        "outputId": "3cfd06f9-2226-49ec-bc8a-0b078c0627b8"
      },
      "execution_count": 82,
      "outputs": [
        {
          "output_type": "stream",
          "name": "stdout",
          "text": [
            "Loaded: 750 train | 500 test images\n"
          ]
        }
      ]
    },
    {
      "cell_type": "code",
      "source": [
        "# CODE ⬇️\n",
        "def rgb_histogram(img_path, bins=8):\n",
        "    arr = np.asarray(Image.open(img_path).convert(\"RGB\").resize((96,96)))\n",
        "    # Flatten & index into bins\n",
        "    hist, _ = np.histogramdd(arr.reshape(-1,3), bins=(bins,bins,bins),\n",
        "                             range=((0,256),)*3)\n",
        "    return hist.flatten()/hist.sum()        # L1-normalised\n",
        "\n",
        "def build_matrix(paths):\n",
        "    return np.vstack([rgb_histogram(p) for p in tqdm(paths)])\n",
        "\n",
        "X_train = build_matrix(paths_train)\n",
        "X_test  = build_matrix(paths_test)\n",
        "print(\"Feature matrix:\", X_train.shape)\n"
      ],
      "metadata": {
        "colab": {
          "base_uri": "https://localhost:8080/",
          "height": 98,
          "referenced_widgets": [
            "e347b596b7034136a8dbbf4930162e86",
            "dac297b7fed444cf93d1683c9768f820",
            "e49a6a0159c14335bbe724911033594d",
            "e1468d1acb9c4f978e76b6fce7f9566e",
            "cb63f784fd1d4934a90b1bbb8d2d5158",
            "3ccac53666cd4ec9bf4437e8458ccbe7",
            "3e96bbb78e7d4749b3c33012260ea4c0",
            "bfc6384ebb154fc6a7031df3615296e8",
            "bd67d3035dc44d6182777f3c830e0f75",
            "057a16a6d827448cab02c505ec6a8952",
            "9445167373b749389f576d6141bcfb00",
            "e0fb0abdbb264b2eaefa0df0b844862e",
            "82563e030a164701a94b3daacf8f3a79",
            "c34a5fa31f334f92a9f9a6cb157f584a",
            "de766a3c236b4f88bd47a819edc54326",
            "9561e90258db467b9629a9989cf2b340",
            "4a5cdfcfa0584bedb3e5808bcc32268b",
            "6eec46a50d14471fba202154ea6d0bf9",
            "ff492e92146045349f18fb6bcc688b44",
            "235a189710b948feb10823f9dbf4467b",
            "a72c5dfd5ae54d07b451765044ea00a2",
            "a5045fe9957a4c65929a7c9ae78a6edc"
          ]
        },
        "id": "jnzn1JzeKH-h",
        "outputId": "e04035df-21b1-4124-e4ce-7acf893ebe2f"
      },
      "execution_count": 83,
      "outputs": [
        {
          "output_type": "display_data",
          "data": {
            "text/plain": [
              "  0%|          | 0/750 [00:00<?, ?it/s]"
            ],
            "application/vnd.jupyter.widget-view+json": {
              "version_major": 2,
              "version_minor": 0,
              "model_id": "e347b596b7034136a8dbbf4930162e86"
            }
          },
          "metadata": {}
        },
        {
          "output_type": "display_data",
          "data": {
            "text/plain": [
              "  0%|          | 0/500 [00:00<?, ?it/s]"
            ],
            "application/vnd.jupyter.widget-view+json": {
              "version_major": 2,
              "version_minor": 0,
              "model_id": "e0fb0abdbb264b2eaefa0df0b844862e"
            }
          },
          "metadata": {}
        },
        {
          "output_type": "stream",
          "name": "stdout",
          "text": [
            "Feature matrix: (750, 512)\n"
          ]
        }
      ]
    },
    {
      "cell_type": "code",
      "source": [
        "# CODE ⬇️  –  add after the confusion-matrix cell\n",
        "import matplotlib.pyplot as plt\n",
        "import numpy as np\n",
        "\n",
        "def mean_hist(paths, bins=256):\n",
        "    h_sum = np.zeros((3, bins))\n",
        "    for p in paths:\n",
        "        arr = np.asarray(Image.open(p).convert(\"RGB\")).reshape(-1, 3)\n",
        "        for c in range(3):\n",
        "            h, _ = np.histogram(arr[:, c], bins=bins, range=(0, 256))\n",
        "            h_sum[c] += h\n",
        "    return (h_sum / h_sum.sum(axis=1, keepdims=True))\n",
        "\n",
        "fig, ax = plt.subplots(len(TARGET), 1, figsize=(6, 1.3*len(TARGET)), sharex=True)\n",
        "colors = ['r', 'g', 'b']\n",
        "\n",
        "for i, country in enumerate(TARGET):\n",
        "    paths_c = [p for p, l in train_ds.samples if l == i]\n",
        "    hist = mean_hist(paths_c)\n",
        "    for c, col in enumerate(colors):\n",
        "        ax[i].plot(hist[c], color=col, alpha=.7, linewidth=1)\n",
        "    ax[i].set_yticks([]); ax[i].set_ylabel(country, rotation=0, labelpad=30)\n",
        "ax[-1].set_xlabel(\"Pixel value →\")\n",
        "plt.suptitle(\"Average RGB histogram per country\")\n",
        "plt.tight_layout(); plt.show()\n"
      ],
      "metadata": {
        "colab": {
          "base_uri": "https://localhost:8080/",
          "height": 659
        },
        "id": "inl0hvSha45m",
        "outputId": "03f314df-9067-4cb1-d6a1-a9813cdf1a0f"
      },
      "execution_count": 87,
      "outputs": [
        {
          "output_type": "display_data",
          "data": {
            "text/plain": [
              "<Figure size 600x650 with 5 Axes>"
            ],
            "image/png": "[encoded data removed]"
          },
          "metadata": {}
        }
      ]
    },
    {
      "cell_type": "code",
      "source": [
        "# CODE ⬇️\n",
        "def avg_colour(paths):\n",
        "    col = np.zeros(3)\n",
        "    for p in paths: col += np.array(Image.open(p).resize((32,32))).mean((0,1))\n",
        "    return (col/len(paths)).astype(int)\n",
        "\n",
        "avg_rgb = np.vstack([avg_colour([p for p,l in train_ds.samples if l==i])\n",
        "                     for i in range(len(TARGET))])\n",
        "\n",
        "plt.figure(figsize=(6,1.4))\n",
        "for i,c in enumerate(avg_rgb):\n",
        "    plt.subplot(1,len(TARGET),i+1)\n",
        "    plt.imshow(np.ones((10,40,3),dtype=np.uint8)*c)\n",
        "    plt.axis('off'); plt.title(TARGET[i],fontsize=9)\n",
        "plt.suptitle(\"Average RGB colour per country\"); plt.show()\n"
      ],
      "metadata": {
        "colab": {
          "base_uri": "https://localhost:8080/",
          "height": 114
        },
        "id": "JuI4j44GKKw9",
        "outputId": "361b54cf-2e6c-4190-c743-026d9fea903c"
      },
      "execution_count": 84,
      "outputs": [
        {
          "output_type": "display_data",
          "data": {
            "text/plain": [
              "<Figure size 600x140 with 5 Axes>"
            ],
            "image/png": "[encoded data removed]"
          },
          "metadata": {}
        }
      ]
    },
    {
      "cell_type": "code",
      "source": [
        "# CODE ⬇️\n",
        "scaler = StandardScaler().fit(X_train)          # histograms → z-score\n",
        "Xs, Xs_test = scaler.transform(X_train), scaler.transform(X_test)\n",
        "\n",
        "models = {\n",
        "    \"Linear SVM\"   : LinearSVC(),\n",
        "    \"Random Forest\": RandomForestClassifier(n_estimators=400,max_depth=25)\n",
        "}\n",
        "\n",
        "for name,clf in models.items():\n",
        "    clf.fit(Xs, y_train)\n",
        "    yp = clf.predict(Xs_test)\n",
        "\n",
        "    acc  = accuracy_score(y_test, yp)\n",
        "    prec, rec, f1, _ = precision_recall_fscore_support(y_test, yp, average='macro')\n",
        "    f2   = fbeta_score(y_test, yp, beta=2, average='macro')\n",
        "\n",
        "    print(f\"\\n{name}\")\n",
        "    print(f\"  accuracy  : {acc:.2%}\")\n",
        "    print(f\"  precision : {prec:.2%} | recall : {rec:.2%}\")\n",
        "    print(f\"  F-1       : {f1:.2%} | F-2    : {f2:.2%}\")\n",
        "\n",
        "    cm = confusion_matrix(y_test, yp, normalize='true')\n",
        "    sns.heatmap(cm, annot=True, fmt=\".2f\", cmap=\"YlGnBu\",\n",
        "                xticklabels=TARGET, yticklabels=TARGET)\n",
        "    plt.title(f\"{name} – confusion\"); plt.show()\n"
      ],
      "metadata": {
        "colab": {
          "base_uri": "https://localhost:8080/",
          "height": 1000
        },
        "id": "97mVrP5uKMxn",
        "outputId": "257645fd-3c7d-4091-bc3d-b355968afa9c"
      },
      "execution_count": 85,
      "outputs": [
        {
          "output_type": "stream",
          "name": "stderr",
          "text": [
            "/usr/local/lib/python3.11/dist-packages/sklearn/svm/_base.py:1249: ConvergenceWarning: Liblinear failed to converge, increase the number of iterations.\n",
            "  warnings.warn(\n"
          ]
        },
        {
          "output_type": "stream",
          "name": "stdout",
          "text": [
            "\n",
            "Linear SVM\n",
            "  accuracy  : 27.00%\n",
            "  precision : 26.25% | recall : 27.00%\n",
            "  F-1       : 26.39% | F-2    : 26.69%\n"
          ]
        },
        {
          "output_type": "display_data",
          "data": {
            "text/plain": [
              "<Figure size 640x480 with 2 Axes>"
            ],
            "image/png": "[encoded data removed]"
          },
          "metadata": {}
        },
        {
          "output_type": "stream",
          "name": "stdout",
          "text": [
            "\n",
            "Random Forest\n",
            "  accuracy  : 33.60%\n",
            "  precision : 32.25% | recall : 33.60%\n",
            "  F-1       : 32.57% | F-2    : 33.10%\n"
          ]
        },
        {
          "output_type": "display_data",
          "data": {
            "text/plain": [
              "<Figure size 640x480 with 2 Axes>"
            ],
            "image/png": "[encoded data removed]"
          },
          "metadata": {}
        }
      ]
    },
    {
      "cell_type": "code",
      "source": [
        "# CODE ⬇️\n",
        "from sklearn.decomposition import PCA\n",
        "p2 = PCA(n_components=2).fit_transform(np.vstack([Xs, Xs_test]))\n",
        "labs = np.concatenate([y_train, y_test])\n",
        "plt.figure(figsize=(5,4))\n",
        "sns.scatterplot(x=p2[:,0], y=p2[:,1], hue=[TARGET[i] for i in labs],\n",
        "                palette='Set2', s=15, alpha=.7)\n",
        "plt.title(\"PCA of RGB-histogram features\"); plt.show()\n"
      ],
      "metadata": {
        "colab": {
          "base_uri": "https://localhost:8080/",
          "height": 391
        },
        "id": "Uep8zuAsKOyI",
        "outputId": "9a748a45-55c3-4715-a0f2-c0a538e5aa21"
      },
      "execution_count": 86,
      "outputs": [
        {
          "output_type": "display_data",
          "data": {
            "text/plain": [
              "<Figure size 500x400 with 1 Axes>"
            ],
            "image/png": "[encoded data removed]"
          },
          "metadata": {}
        }
      ]
    },
    {
      "cell_type": "code",
      "source": [
        "# CODE ⬇️  – run right after the model loop finishes\n",
        "from sklearn.metrics import f1_score, precision_score, recall_score, fbeta_score\n",
        "\n",
        "def eval_model(model, Xtr, Xte, ytr, yte):\n",
        "    model.fit(Xtr, ytr)\n",
        "    yp = model.predict(Xte)\n",
        "    return dict(\n",
        "        accuracy  = accuracy_score(yte, yp),\n",
        "        precision = precision_score(yte, yp, average='macro', zero_division=0),\n",
        "        recall    = recall_score(yte, yp, average='macro', zero_division=0),\n",
        "        f1        = f1_score(   yte, yp, average='macro', zero_division=0),\n",
        "        f2        = fbeta_score(yte, yp, beta=2, average='macro', zero_division=0)\n",
        "    )\n",
        "\n",
        "scores = { \"Linear SVM\"   : eval_model(LinearSVC(), Xs, Xs_test, y_train, y_test),\n",
        "           \"RandomForest\" : eval_model(RandomForestClassifier(n_estimators=400, max_depth=25),\n",
        "                                       Xs, Xs_test, y_train, y_test)}\n",
        "\n",
        "pd.DataFrame(scores).T.style.format('{:.2%}')\n"
      ],
      "metadata": {
        "colab": {
          "base_uri": "https://localhost:8080/",
          "height": 147
        },
        "id": "6ntpss9ibCIS",
        "outputId": "53ed53fe-8a00-4ebf-c447-09448d307333"
      },
      "execution_count": 88,
      "outputs": [
        {
          "output_type": "stream",
          "name": "stderr",
          "text": [
            "/usr/local/lib/python3.11/dist-packages/sklearn/svm/_base.py:1249: ConvergenceWarning: Liblinear failed to converge, increase the number of iterations.\n",
            "  warnings.warn(\n"
          ]
        },
        {
          "output_type": "execute_result",
          "data": {
            "text/plain": [
              "<pandas.io.formats.style.Styler at 0x7a3761c4a690>"
            ],
            "text/html": [
              "<style type=\"text/css\">\n",
              "</style>\n",
              "<table id=\"T_9afe0\" class=\"dataframe\">\n",
              "  <thead>\n",
              "    <tr>\n",
              "      <th class=\"blank level0\" >&nbsp;</th>\n",
              "      <th id=\"T_9afe0_level0_col0\" class=\"col_heading level0 col0\" >accuracy</th>\n",
              "      <th id=\"T_9afe0_level0_col1\" class=\"col_heading level0 col1\" >precision</th>\n",
              "      <th id=\"T_9afe0_level0_col2\" class=\"col_heading level0 col2\" >recall</th>\n",
              "      <th id=\"T_9afe0_level0_col3\" class=\"col_heading level0 col3\" >f1</th>\n",
              "      <th id=\"T_9afe0_level0_col4\" class=\"col_heading level0 col4\" >f2</th>\n",
              "    </tr>\n",
              "  </thead>\n",
              "  <tbody>\n",
              "    <tr>\n",
              "      <th id=\"T_9afe0_level0_row0\" class=\"row_heading level0 row0\" >Linear SVM</th>\n",
              "      <td id=\"T_9afe0_row0_col0\" class=\"data row0 col0\" >27.00%</td>\n",
              "      <td id=\"T_9afe0_row0_col1\" class=\"data row0 col1\" >26.25%</td>\n",
              "      <td id=\"T_9afe0_row0_col2\" class=\"data row0 col2\" >27.00%</td>\n",
              "      <td id=\"T_9afe0_row0_col3\" class=\"data row0 col3\" >26.39%</td>\n",
              "      <td id=\"T_9afe0_row0_col4\" class=\"data row0 col4\" >26.69%</td>\n",
              "    </tr>\n",
              "    <tr>\n",
              "      <th id=\"T_9afe0_level0_row1\" class=\"row_heading level0 row1\" >RandomForest</th>\n",
              "      <td id=\"T_9afe0_row1_col0\" class=\"data row1 col0\" >35.80%</td>\n",
              "      <td id=\"T_9afe0_row1_col1\" class=\"data row1 col1\" >34.40%</td>\n",
              "      <td id=\"T_9afe0_row1_col2\" class=\"data row1 col2\" >35.80%</td>\n",
              "      <td id=\"T_9afe0_row1_col3\" class=\"data row1 col3\" >34.42%</td>\n",
              "      <td id=\"T_9afe0_row1_col4\" class=\"data row1 col4\" >35.11%</td>\n",
              "    </tr>\n",
              "  </tbody>\n",
              "</table>\n"
            ]
          },
          "metadata": {},
          "execution_count": 88
        }
      ]
    },
    {
      "cell_type": "markdown",
      "source": [
        "## 📝 Colour-Histogram Findings\n",
        "\n",
        "* **Average colour swatch** shows all five classes gravitate to muted earth-tones; NG and IL trend slightly greener, JP marginally bluer.  \n",
        "* **RGB-histogram classifiers** tell us colour alone is only mildly informative:  \n",
        "  * Random-Forest tops out at **≈ 35.8 % accuracy** (macro-F1 ≈ 0.33).  \n",
        "  * Linear-SVM trails near **27 %**.  \n",
        "* Confusion matrices reveal heavy cross-talk; NG gets the clearest colour signature (56 % true-positive in RF).  \n",
        "* PCA of histogram space confirms clusters overlap heavily – colour by itself can’t fully separate these countries.\n",
        "\n",
        "**Take-away:**  \n",
        "Global colour gives a quick flavour of each dataset but is far from definitive.  \n",
        "Adding texture or deep CNN features (ResNet, CLIP) would greatly boost discriminative power.\n"
      ],
      "metadata": {
        "id": "hrmxa5babGWQ"
      }
    }
  ]
}